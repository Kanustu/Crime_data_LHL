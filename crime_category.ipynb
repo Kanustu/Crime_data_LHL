{
 "cells": [
  {
   "cell_type": "code",
   "execution_count": 1,
   "id": "1a367e57-40d7-491d-8aed-4eb344066366",
   "metadata": {},
   "outputs": [],
   "source": [
    "# Import needed libraries\n",
    "import pandas as pd\n",
    "import numpy as np\n",
    "import xgboost as xgb\n",
    "from sklearn.preprocessing import LabelEncoder"
   ]
  },
  {
   "cell_type": "code",
   "execution_count": 2,
   "id": "062f7b08-ced1-45c6-8843-2ff7ead8f921",
   "metadata": {},
   "outputs": [],
   "source": [
    "# Read the training data\n",
    "train_data = pd.read_csv('crime_train.csv')\n",
    "# Read the tesing data\n",
    "test_data = pd.read_csv('crime_test.csv')"
   ]
  },
  {
   "cell_type": "code",
   "execution_count": 3,
   "id": "9daba6a7-c216-44b6-b264-6bf81a148ab6",
   "metadata": {},
   "outputs": [],
   "source": [
    "def feature_engineering(df):\n",
    "    \"\"\"\n",
    "    Perform feature engineering on the DataFrame.\n",
    "    \n",
    "    Parameters:\n",
    "    - df: Pandas DataFrame containing 'Dates' column\n",
    "    \n",
    "    This function converts the 'Dates' column to DateTime format and extracts\n",
    "    'day', 'month', and 'year' features. Then, drops the 'Dates' column.\n",
    "    \"\"\"\n",
    "    df['Dates'] = pd.to_datetime(df['Dates'])\n",
    "    values = ['day', 'month', 'year']\n",
    "    for value in values:\n",
    "        df[value] = getattr(df['Dates'].dt, value)\n",
    "    df.drop(columns='Dates', inplace=True)\n",
    "\n",
    "def features_pre_processing(df):\n",
    "    \"\"\"\n",
    "    Preprocess features in the DataFrame.\n",
    "    \n",
    "    Parameters:\n",
    "    - df: Pandas DataFrame containing 'DayOfWeek' and 'PdDistrict' columns\n",
    "    \n",
    "    This function encodes 'DayOfWeek' and 'PdDistrict' using LabelEncoder,\n",
    "    and drops these columns after encoding.\n",
    "    \"\"\"\n",
    "    le = LabelEncoder()\n",
    "    df['day_of_week'] = le.fit_transform(df['DayOfWeek'])\n",
    "    df['district_no'] = le.fit_transform(df['PdDistrict'])\n",
    "    df.drop(columns=['DayOfWeek', 'PdDistrict'], inplace=True)\n",
    "\n",
    "def target_pre_processing(df):\n",
    "    \"\"\"\n",
    "    Preprocess the target variable in the DataFrame.\n",
    "    \n",
    "    Parameters:\n",
    "    - df: Pandas DataFrame containing 'Category' column\n",
    "    \n",
    "    This function encodes the 'Category' column (target variable) using LabelEncoder.\n",
    "    \"\"\"\n",
    "    le = LabelEncoder()\n",
    "    df['Category'] = le.fit_transform(df['Category'])"
   ]
  },
  {
   "cell_type": "code",
   "execution_count": 4,
   "id": "c14ee931-6cfb-47f9-86c0-1f362980ce52",
   "metadata": {},
   "outputs": [],
   "source": [
    "# Perform feature engineering on the training data\n",
    "feature_engineering(train_data)\n",
    "\n",
    "# Perform feature engineering on the test data\n",
    "feature_engineering(test_data)"
   ]
  },
  {
   "cell_type": "code",
   "execution_count": 5,
   "id": "d7f15245-d409-4c84-a76d-b634b66697e0",
   "metadata": {},
   "outputs": [],
   "source": [
    "# Preprocess the target variable in the training data\n",
    "target_pre_processing(train_data)\n",
    "\n",
    "# Preprocess the features in the training data\n",
    "features_pre_processing(train_data)\n",
    "\n",
    "# Preprocess the features in the test data\n",
    "features_pre_processing(test_data)"
   ]
  },
  {
   "cell_type": "code",
   "execution_count": 6,
   "id": "b97c5d69-ed1e-46ee-b580-8c79cd38c329",
   "metadata": {},
   "outputs": [],
   "source": [
    "# Prepare training data: \n",
    "# Exclude 'Descript', 'Resolution', 'Address' columns and assign to X_train\n",
    "X_train = train_data.drop(columns=['Descript', 'Resolution', 'Address', 'Category'])\n",
    "\n",
    "# Set 'Category' as the target variable for training\n",
    "y_train = train_data['Category']\n",
    "\n",
    "# Prepare test data: \n",
    "# Exclude 'Address', 'Id' columns and assign to X_test\n",
    "X_test = test_data.drop(columns=['Address', 'Id'])"
   ]
  },
  {
   "cell_type": "code",
   "execution_count": 7,
   "id": "fa912cee-a4e8-400e-a103-e5f9e506bc8b",
   "metadata": {},
   "outputs": [
    {
     "data": {
      "text/html": [
       "<style>#sk-container-id-1 {color: black;}#sk-container-id-1 pre{padding: 0;}#sk-container-id-1 div.sk-toggleable {background-color: white;}#sk-container-id-1 label.sk-toggleable__label {cursor: pointer;display: block;width: 100%;margin-bottom: 0;padding: 0.3em;box-sizing: border-box;text-align: center;}#sk-container-id-1 label.sk-toggleable__label-arrow:before {content: \"▸\";float: left;margin-right: 0.25em;color: #696969;}#sk-container-id-1 label.sk-toggleable__label-arrow:hover:before {color: black;}#sk-container-id-1 div.sk-estimator:hover label.sk-toggleable__label-arrow:before {color: black;}#sk-container-id-1 div.sk-toggleable__content {max-height: 0;max-width: 0;overflow: hidden;text-align: left;background-color: #f0f8ff;}#sk-container-id-1 div.sk-toggleable__content pre {margin: 0.2em;color: black;border-radius: 0.25em;background-color: #f0f8ff;}#sk-container-id-1 input.sk-toggleable__control:checked~div.sk-toggleable__content {max-height: 200px;max-width: 100%;overflow: auto;}#sk-container-id-1 input.sk-toggleable__control:checked~label.sk-toggleable__label-arrow:before {content: \"▾\";}#sk-container-id-1 div.sk-estimator input.sk-toggleable__control:checked~label.sk-toggleable__label {background-color: #d4ebff;}#sk-container-id-1 div.sk-label input.sk-toggleable__control:checked~label.sk-toggleable__label {background-color: #d4ebff;}#sk-container-id-1 input.sk-hidden--visually {border: 0;clip: rect(1px 1px 1px 1px);clip: rect(1px, 1px, 1px, 1px);height: 1px;margin: -1px;overflow: hidden;padding: 0;position: absolute;width: 1px;}#sk-container-id-1 div.sk-estimator {font-family: monospace;background-color: #f0f8ff;border: 1px dotted black;border-radius: 0.25em;box-sizing: border-box;margin-bottom: 0.5em;}#sk-container-id-1 div.sk-estimator:hover {background-color: #d4ebff;}#sk-container-id-1 div.sk-parallel-item::after {content: \"\";width: 100%;border-bottom: 1px solid gray;flex-grow: 1;}#sk-container-id-1 div.sk-label:hover label.sk-toggleable__label {background-color: #d4ebff;}#sk-container-id-1 div.sk-serial::before {content: \"\";position: absolute;border-left: 1px solid gray;box-sizing: border-box;top: 0;bottom: 0;left: 50%;z-index: 0;}#sk-container-id-1 div.sk-serial {display: flex;flex-direction: column;align-items: center;background-color: white;padding-right: 0.2em;padding-left: 0.2em;position: relative;}#sk-container-id-1 div.sk-item {position: relative;z-index: 1;}#sk-container-id-1 div.sk-parallel {display: flex;align-items: stretch;justify-content: center;background-color: white;position: relative;}#sk-container-id-1 div.sk-item::before, #sk-container-id-1 div.sk-parallel-item::before {content: \"\";position: absolute;border-left: 1px solid gray;box-sizing: border-box;top: 0;bottom: 0;left: 50%;z-index: -1;}#sk-container-id-1 div.sk-parallel-item {display: flex;flex-direction: column;z-index: 1;position: relative;background-color: white;}#sk-container-id-1 div.sk-parallel-item:first-child::after {align-self: flex-end;width: 50%;}#sk-container-id-1 div.sk-parallel-item:last-child::after {align-self: flex-start;width: 50%;}#sk-container-id-1 div.sk-parallel-item:only-child::after {width: 0;}#sk-container-id-1 div.sk-dashed-wrapped {border: 1px dashed gray;margin: 0 0.4em 0.5em 0.4em;box-sizing: border-box;padding-bottom: 0.4em;background-color: white;}#sk-container-id-1 div.sk-label label {font-family: monospace;font-weight: bold;display: inline-block;line-height: 1.2em;}#sk-container-id-1 div.sk-label-container {text-align: center;}#sk-container-id-1 div.sk-container {/* jupyter's `normalize.less` sets `[hidden] { display: none; }` but bootstrap.min.css set `[hidden] { display: none !important; }` so we also need the `!important` here to be able to override the default hidden behavior on the sphinx rendered scikit-learn.org. See: https://github.com/scikit-learn/scikit-learn/issues/21755 */display: inline-block !important;position: relative;}#sk-container-id-1 div.sk-text-repr-fallback {display: none;}</style><div id=\"sk-container-id-1\" class=\"sk-top-container\"><div class=\"sk-text-repr-fallback\"><pre>XGBClassifier(base_score=None, booster=None, callbacks=None,\n",
       "              colsample_bylevel=None, colsample_bynode=None,\n",
       "              colsample_bytree=None, early_stopping_rounds=None,\n",
       "              enable_categorical=False, eval_metric=None, feature_types=None,\n",
       "              gamma=None, gpu_id=None, grow_policy=None, importance_type=None,\n",
       "              interaction_constraints=None, learning_rate=None, max_bin=None,\n",
       "              max_cat_threshold=None, max_cat_to_onehot=None,\n",
       "              max_delta_step=None, max_depth=None, max_leaves=None,\n",
       "              min_child_weight=None, missing=nan, monotone_constraints=None,\n",
       "              n_estimators=100, n_jobs=None, num_parallel_tree=None,\n",
       "              objective=&#x27;multi:softprob&#x27;, predictor=None, ...)</pre><b>In a Jupyter environment, please rerun this cell to show the HTML representation or trust the notebook. <br />On GitHub, the HTML representation is unable to render, please try loading this page with nbviewer.org.</b></div><div class=\"sk-container\" hidden><div class=\"sk-item\"><div class=\"sk-estimator sk-toggleable\"><input class=\"sk-toggleable__control sk-hidden--visually\" id=\"sk-estimator-id-1\" type=\"checkbox\" checked><label for=\"sk-estimator-id-1\" class=\"sk-toggleable__label sk-toggleable__label-arrow\">XGBClassifier</label><div class=\"sk-toggleable__content\"><pre>XGBClassifier(base_score=None, booster=None, callbacks=None,\n",
       "              colsample_bylevel=None, colsample_bynode=None,\n",
       "              colsample_bytree=None, early_stopping_rounds=None,\n",
       "              enable_categorical=False, eval_metric=None, feature_types=None,\n",
       "              gamma=None, gpu_id=None, grow_policy=None, importance_type=None,\n",
       "              interaction_constraints=None, learning_rate=None, max_bin=None,\n",
       "              max_cat_threshold=None, max_cat_to_onehot=None,\n",
       "              max_delta_step=None, max_depth=None, max_leaves=None,\n",
       "              min_child_weight=None, missing=nan, monotone_constraints=None,\n",
       "              n_estimators=100, n_jobs=None, num_parallel_tree=None,\n",
       "              objective=&#x27;multi:softprob&#x27;, predictor=None, ...)</pre></div></div></div></div></div>"
      ],
      "text/plain": [
       "XGBClassifier(base_score=None, booster=None, callbacks=None,\n",
       "              colsample_bylevel=None, colsample_bynode=None,\n",
       "              colsample_bytree=None, early_stopping_rounds=None,\n",
       "              enable_categorical=False, eval_metric=None, feature_types=None,\n",
       "              gamma=None, gpu_id=None, grow_policy=None, importance_type=None,\n",
       "              interaction_constraints=None, learning_rate=None, max_bin=None,\n",
       "              max_cat_threshold=None, max_cat_to_onehot=None,\n",
       "              max_delta_step=None, max_depth=None, max_leaves=None,\n",
       "              min_child_weight=None, missing=nan, monotone_constraints=None,\n",
       "              n_estimators=100, n_jobs=None, num_parallel_tree=None,\n",
       "              objective='multi:softprob', predictor=None, ...)"
      ]
     },
     "execution_count": 7,
     "metadata": {},
     "output_type": "execute_result"
    }
   ],
   "source": [
    "# Create an XGBoost Classifier model and fit it with the training data\n",
    "model = xgb.XGBClassifier()\n",
    "model.fit(X_train, y_train)"
   ]
  },
  {
   "cell_type": "code",
   "execution_count": 8,
   "id": "1bc09ec7-b38c-4453-8a0a-b9e965bae719",
   "metadata": {},
   "outputs": [],
   "source": [
    "# Predict the probabilities of classes for the test data using the trained model\n",
    "y_pred = model.predict_proba(X_test)"
   ]
  },
  {
   "cell_type": "code",
   "execution_count": 9,
   "id": "53953bc7-aa03-496b-b387-ef75abae10a6",
   "metadata": {},
   "outputs": [],
   "source": [
    "# Extract the 'Id' column from the test data for the submission\n",
    "sub_column = test_data['Id']"
   ]
  },
  {
   "cell_type": "code",
   "execution_count": 10,
   "id": "66a773b9-69f9-402f-8ba4-a5c0fbf1e7a5",
   "metadata": {},
   "outputs": [],
   "source": [
    "# Create a DataFrame for submission with 'Id' column using the extracted 'Id' data\n",
    "submission = pd.DataFrame(columns=['Id'], data=sub_column)"
   ]
  },
  {
   "cell_type": "code",
   "execution_count": 11,
   "id": "3ea9a8b6-566a-4b6a-9b0d-de134a8cc232",
   "metadata": {},
   "outputs": [],
   "source": [
    "# Concatenate the 'Id' column with the predicted probabilities for different crime categories\n",
    "submission = pd.concat([submission, pd.DataFrame(y_pred, columns=[\"ARSON\", \"ASSAULT\", \"BAD CHECKS\", \"BRIBERY\", \"BURGLARY\", \"DISORDERLY CONDUCT\", \"DRIVING UNDER THE INFLUENCE\", \"DRUG/NARCOTIC\", \"DRUNKENNESS\", \"EMBEZZLEMENT\", \"EXTORTION\", \"FAMILY OFFENSES\", \"FORGERY/COUNTERFEITING\", \"FRAUD\", \"GAMBLING\", \"KIDNAPPING\", \"LARCENY/THEFT\", \"LIQUOR LAWS\", \"LOITERING\", \"MISSING PERSON\", \"NON-CRIMINAL\", \"OTHER OFFENSES\", \"PORNOGRAPHY/OBSCENE MAT\", \"PROSTITUTION\", \"RECOVERED VEHICLE\", \"ROBBERY\", \"RUNAWAY\", \"SECONDARY CODES\", \"SEX OFFENSES FORCIBLE\", \"SEX OFFENSES NON FORCIBLE\", \"STOLEN PROPERTY\", \"SUICIDE\", \"SUSPICIOUS OCC\", \"TREA\", \"TRESPASS\", \"VANDALISM\", \"VEHICLE THEFT\", \"WARRANTS\", \"WEAPON LAWS\"])], axis=1)"
   ]
  },
  {
   "cell_type": "code",
   "execution_count": 12,
   "id": "825f8f3d-51ce-4120-bfa0-5275088ebaba",
   "metadata": {},
   "outputs": [],
   "source": [
    "# Save the submission DataFrame to a CSV file for Kaggle competition submission\n",
    "submission.to_csv('kaggle_crime.csv', index=False)"
   ]
  }
 ],
 "metadata": {
  "kernelspec": {
   "display_name": "ava",
   "language": "python",
   "name": "ava"
  },
  "language_info": {
   "codemirror_mode": {
    "name": "ipython",
    "version": 3
   },
   "file_extension": ".py",
   "mimetype": "text/x-python",
   "name": "python",
   "nbconvert_exporter": "python",
   "pygments_lexer": "ipython3",
   "version": "3.9.16"
  }
 },
 "nbformat": 4,
 "nbformat_minor": 5
}
